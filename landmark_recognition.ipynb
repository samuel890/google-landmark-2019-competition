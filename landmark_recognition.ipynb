{
 "cells": [
  {
   "cell_type": "markdown",
   "metadata": {},
   "source": [
    "# Machine Learning Nanodegree Capstone Project\n",
    "\n",
    "### __by Gap Kim__\n",
    "\n",
    "## Dataset for Project"
   ]
  },
  {
   "cell_type": "code",
   "execution_count": 1,
   "metadata": {},
   "outputs": [
    {
     "ename": "ModuleNotFoundError",
     "evalue": "No module named 'cv2'",
     "output_type": "error",
     "traceback": [
      "\u001b[1;31m---------------------------------------------------------------------------\u001b[0m",
      "\u001b[1;31mModuleNotFoundError\u001b[0m                       Traceback (most recent call last)",
      "\u001b[1;32m<ipython-input-1-9020ced32c49>\u001b[0m in \u001b[0;36m<module>\u001b[1;34m\u001b[0m\n\u001b[0;32m      3\u001b[0m \u001b[1;33m\u001b[0m\u001b[0m\n\u001b[0;32m      4\u001b[0m \u001b[1;31m# reference Amanieu (https://www.kaggle.com/hyamanieu)\u001b[0m\u001b[1;33m\u001b[0m\u001b[1;33m\u001b[0m\u001b[1;33m\u001b[0m\u001b[0m\n\u001b[1;32m----> 5\u001b[1;33m \u001b[1;32mimport\u001b[0m \u001b[0mcv2\u001b[0m\u001b[1;33m\u001b[0m\u001b[1;33m\u001b[0m\u001b[0m\n\u001b[0m\u001b[0;32m      6\u001b[0m \u001b[1;32mimport\u001b[0m \u001b[0mpandas\u001b[0m \u001b[1;32mas\u001b[0m \u001b[0mpd\u001b[0m\u001b[1;33m\u001b[0m\u001b[1;33m\u001b[0m\u001b[0m\n\u001b[0;32m      7\u001b[0m \u001b[1;32mimport\u001b[0m \u001b[0mnumpy\u001b[0m \u001b[1;32mas\u001b[0m \u001b[0mnp\u001b[0m\u001b[1;33m\u001b[0m\u001b[1;33m\u001b[0m\u001b[0m\n",
      "\u001b[1;31mModuleNotFoundError\u001b[0m: No module named 'cv2'"
     ]
    }
   ],
   "source": [
    "### Sampling of training images\n",
    "### Create train_sample.csv file with sampled train image url's\n",
    "\n",
    "# reference Amanieu (https://www.kaggle.com/hyamanieu)\n",
    "import cv2\n",
    "import pandas as pd\n",
    "import numpy as np\n",
    "import csv\n",
    "\n",
    "train = pd.read_csv(\"train.csv\")\n",
    "test = pd.read_csv(\"test.csv\")\n",
    "# submission = pd.read_csv(\"./sample_submission.csv\")\n"
   ]
  },
  {
   "cell_type": "code",
   "execution_count": 2,
   "metadata": {},
   "outputs": [
    {
     "name": "stdout",
     "output_type": "stream",
     "text": [
      "train dataset structure:\n"
     ]
    },
    {
     "data": {
      "text/html": [
       "<div>\n",
       "<style scoped>\n",
       "    .dataframe tbody tr th:only-of-type {\n",
       "        vertical-align: middle;\n",
       "    }\n",
       "\n",
       "    .dataframe tbody tr th {\n",
       "        vertical-align: top;\n",
       "    }\n",
       "\n",
       "    .dataframe thead th {\n",
       "        text-align: right;\n",
       "    }\n",
       "</style>\n",
       "<table border=\"1\" class=\"dataframe\">\n",
       "  <thead>\n",
       "    <tr style=\"text-align: right;\">\n",
       "      <th></th>\n",
       "      <th>id</th>\n",
       "      <th>url</th>\n",
       "      <th>landmark_id</th>\n",
       "    </tr>\n",
       "  </thead>\n",
       "  <tbody>\n",
       "    <tr>\n",
       "      <td>0</td>\n",
       "      <td>6e158a47eb2ca3f6</td>\n",
       "      <td>https://upload.wikimedia.org/wikipedia/commons...</td>\n",
       "      <td>142820</td>\n",
       "    </tr>\n",
       "    <tr>\n",
       "      <td>1</td>\n",
       "      <td>202cd79556f30760</td>\n",
       "      <td>http://upload.wikimedia.org/wikipedia/commons/...</td>\n",
       "      <td>104169</td>\n",
       "    </tr>\n",
       "    <tr>\n",
       "      <td>2</td>\n",
       "      <td>3ad87684c99c06e1</td>\n",
       "      <td>http://upload.wikimedia.org/wikipedia/commons/...</td>\n",
       "      <td>37914</td>\n",
       "    </tr>\n",
       "    <tr>\n",
       "      <td>3</td>\n",
       "      <td>e7f70e9c61e66af3</td>\n",
       "      <td>https://upload.wikimedia.org/wikipedia/commons...</td>\n",
       "      <td>102140</td>\n",
       "    </tr>\n",
       "    <tr>\n",
       "      <td>4</td>\n",
       "      <td>4072182eddd0100e</td>\n",
       "      <td>https://upload.wikimedia.org/wikipedia/commons...</td>\n",
       "      <td>2474</td>\n",
       "    </tr>\n",
       "  </tbody>\n",
       "</table>\n",
       "</div>"
      ],
      "text/plain": [
       "                 id                                                url  \\\n",
       "0  6e158a47eb2ca3f6  https://upload.wikimedia.org/wikipedia/commons...   \n",
       "1  202cd79556f30760  http://upload.wikimedia.org/wikipedia/commons/...   \n",
       "2  3ad87684c99c06e1  http://upload.wikimedia.org/wikipedia/commons/...   \n",
       "3  e7f70e9c61e66af3  https://upload.wikimedia.org/wikipedia/commons...   \n",
       "4  4072182eddd0100e  https://upload.wikimedia.org/wikipedia/commons...   \n",
       "\n",
       "   landmark_id  \n",
       "0       142820  \n",
       "1       104169  \n",
       "2        37914  \n",
       "3       102140  \n",
       "4         2474  "
      ]
     },
     "execution_count": 2,
     "metadata": {},
     "output_type": "execute_result"
    }
   ],
   "source": [
    "print(\"train dataset structure:\")\n",
    "train.head()"
   ]
  },
  {
   "cell_type": "code",
   "execution_count": 3,
   "metadata": {},
   "outputs": [
    {
     "name": "stdout",
     "output_type": "stream",
     "text": [
      "test dataset structure:\n"
     ]
    },
    {
     "data": {
      "text/html": [
       "<div>\n",
       "<style scoped>\n",
       "    .dataframe tbody tr th:only-of-type {\n",
       "        vertical-align: middle;\n",
       "    }\n",
       "\n",
       "    .dataframe tbody tr th {\n",
       "        vertical-align: top;\n",
       "    }\n",
       "\n",
       "    .dataframe thead th {\n",
       "        text-align: right;\n",
       "    }\n",
       "</style>\n",
       "<table border=\"1\" class=\"dataframe\">\n",
       "  <thead>\n",
       "    <tr style=\"text-align: right;\">\n",
       "      <th></th>\n",
       "      <th>id</th>\n",
       "      <th>url</th>\n",
       "    </tr>\n",
       "  </thead>\n",
       "  <tbody>\n",
       "    <tr>\n",
       "      <td>0</td>\n",
       "      <td>cb9998b8cdaf6235</td>\n",
       "      <td>https://lh3.googleusercontent.com/-q8B91vDIQZY...</td>\n",
       "    </tr>\n",
       "    <tr>\n",
       "      <td>1</td>\n",
       "      <td>30728cf6e50a6bc6</td>\n",
       "      <td>https://lh3.googleusercontent.com/-91gJSKTgv5Q...</td>\n",
       "    </tr>\n",
       "    <tr>\n",
       "      <td>2</td>\n",
       "      <td>16afbc86b710337d</td>\n",
       "      <td>https://lh3.googleusercontent.com/-GHZdXuf2wMg...</td>\n",
       "    </tr>\n",
       "    <tr>\n",
       "      <td>3</td>\n",
       "      <td>d29b2166cf522450</td>\n",
       "      <td>https://lh3.googleusercontent.com/-cWDnYNQhyws...</td>\n",
       "    </tr>\n",
       "    <tr>\n",
       "      <td>4</td>\n",
       "      <td>dd5c03b20c21cfba</td>\n",
       "      <td>https://lh3.googleusercontent.com/-PSLN6BloM-k...</td>\n",
       "    </tr>\n",
       "  </tbody>\n",
       "</table>\n",
       "</div>"
      ],
      "text/plain": [
       "                 id                                                url\n",
       "0  cb9998b8cdaf6235  https://lh3.googleusercontent.com/-q8B91vDIQZY...\n",
       "1  30728cf6e50a6bc6  https://lh3.googleusercontent.com/-91gJSKTgv5Q...\n",
       "2  16afbc86b710337d  https://lh3.googleusercontent.com/-GHZdXuf2wMg...\n",
       "3  d29b2166cf522450  https://lh3.googleusercontent.com/-cWDnYNQhyws...\n",
       "4  dd5c03b20c21cfba  https://lh3.googleusercontent.com/-PSLN6BloM-k..."
      ]
     },
     "execution_count": 3,
     "metadata": {},
     "output_type": "execute_result"
    }
   ],
   "source": [
    "print(\"test dataset structure:\")\n",
    "test.head()"
   ]
  },
  {
   "cell_type": "markdown",
   "metadata": {},
   "source": [
    "### Get top 100 most frequently appearing landmark_id from the original dataset"
   ]
  },
  {
   "cell_type": "code",
   "execution_count": 4,
   "metadata": {},
   "outputs": [],
   "source": [
    "unique_lm = train.groupby(by='landmark_id').count().loc[:,'id']\n",
    "sorted_lm = unique_lm.sort_values(ascending=False)\n",
    "sorted_lm.cumsum()/sorted_lm.sum()\n",
    "\n",
    "landmarks=train.groupby(by='landmark_id').count().loc[:,'id']\n",
    "lm_stats = pd.concat([sorted_lm, sorted_lm/sorted_lm.sum(), sorted_lm.cumsum()/sorted_lm.sum()], axis=1, ignore_index=True)\n",
    "lm_stats.columns=['Count', 'Proportion', 'CumSum']\n",
    "\n",
    "top_100 = lm_stats[0 : 100] # top 100 most frequent landmark_id for image selection\n",
    "\n",
    "train_ordered = train[train.landmark_id.isin(top_100.index)]\n",
    "# select 2% of images from each landmark_id with random state 17\n",
    "sample_group = train_ordered.groupby(by='landmark_id').apply(lambda x: x.sample(frac=0.02, random_state=17))\n",
    "sample_index = sample_group.index.levels[1]\n",
    "\n",
    "# sampling train data from original train dataset\n",
    "train_sample = train.iloc[sample_index, :]\n",
    "\n",
    "# write to csv file\n",
    "train_sample.to_csv('train_sample.csv', index=False, quoting=csv.QUOTE_NONNUMERIC)\n",
    "train_sample_df = pd.read_csv('train_sample.csv')\n"
   ]
  },
  {
   "cell_type": "code",
   "execution_count": 5,
   "metadata": {},
   "outputs": [
    {
     "name": "stdout",
     "output_type": "stream",
     "text": [
      "Total train dataset size: 4132914\n",
      "Total test dataset size: 117703\n",
      "Total number of unique landmark_id's: 203094\n",
      "Sampled train dataset size: 2557\n",
      "Sampled unique landmark_id's: 100\n"
     ]
    }
   ],
   "source": [
    "print(\"Total train dataset size:\", train.shape[0])\n",
    "print(\"Total test dataset size:\", test.shape[0])\n",
    "print(\"Total number of unique landmark_id's:\", len(landmarks))\n",
    "\n",
    "print(\"Sampled train dataset size:\", train_sample.shape[0])\n",
    "print(\"Sampled unique landmark_id's:\", len(train_sample[\"landmark_id\"].unique()))"
   ]
  },
  {
   "cell_type": "code",
   "execution_count": 9,
   "metadata": {},
   "outputs": [
    {
     "ename": "ModuleNotFoundError",
     "evalue": "No module named 'cv2'",
     "output_type": "error",
     "traceback": [
      "\u001b[1;31m---------------------------------------------------------------------------\u001b[0m",
      "\u001b[1;31mModuleNotFoundError\u001b[0m                       Traceback (most recent call last)",
      "\u001b[1;32m<ipython-input-9-71e2cad68d47>\u001b[0m in \u001b[0;36m<module>\u001b[1;34m\u001b[0m\n\u001b[1;32m----> 1\u001b[1;33m \u001b[1;32mimport\u001b[0m \u001b[0mcv2\u001b[0m\u001b[1;33m\u001b[0m\u001b[1;33m\u001b[0m\u001b[0m\n\u001b[0m\u001b[0;32m      2\u001b[0m \u001b[0mtrain_sample\u001b[0m\u001b[1;33m.\u001b[0m\u001b[0mhead\u001b[0m\u001b[1;33m(\u001b[0m\u001b[1;33m)\u001b[0m\u001b[1;33m\u001b[0m\u001b[1;33m\u001b[0m\u001b[0m\n",
      "\u001b[1;31mModuleNotFoundError\u001b[0m: No module named 'cv2'"
     ]
    }
   ],
   "source": [
    "import cv2\n",
    "train_sample.head()"
   ]
  },
  {
   "cell_type": "markdown",
   "metadata": {},
   "source": [
    "## Analysis of Reduced Dataset"
   ]
  },
  {
   "cell_type": "code",
   "execution_count": 7,
   "metadata": {},
   "outputs": [],
   "source": [
    "import matplotlib.pyplot as plt\n",
    "import seaborn as sns\n",
    "%matplotlib inline "
   ]
  },
  {
   "cell_type": "markdown",
   "metadata": {},
   "source": [
    "### Frequency of landmark_id in reduced dataset"
   ]
  },
  {
   "cell_type": "code",
   "execution_count": 8,
   "metadata": {
    "scrolled": true
   },
   "outputs": [
    {
     "data": {
      "image/png": "[encoded data removed]",
      "text/plain": [
       "<Figure size 1008x288 with 1 Axes>"
      ]
     },
     "metadata": {
      "needs_background": "light"
     },
     "output_type": "display_data"
    }
   ],
   "source": [
    "plt.figure(figsize = (14, 4))\n",
    "g = sns.countplot(x=\"landmark_id\", data=train_sample)\n",
    "g.set_title(\"Frequency of Landmark ID\", fontweight=\"bold\", fontsize=12)\n",
    "plt.xticks(rotation=90)\n",
    "plt.show()"
   ]
  },
  {
   "cell_type": "code",
   "execution_count": 9,
   "metadata": {
    "scrolled": false
   },
   "outputs": [
    {
     "data": {
      "text/plain": [
       "138982    205\n",
       "62798      87\n",
       "177870     67\n",
       "176528     65\n",
       "192931     53\n",
       "126637     52\n",
       "83144      47\n",
       "20409      45\n",
       "171772     45\n",
       "151942     35\n",
       "Name: landmark_id, dtype: int64"
      ]
     },
     "execution_count": 9,
     "metadata": {},
     "output_type": "execute_result"
    }
   ],
   "source": [
    "# top 10 frequent landmark_ids\n",
    "train_sample['landmark_id'].value_counts()[:10]"
   ]
  },
  {
   "cell_type": "code",
   "execution_count": 10,
   "metadata": {},
   "outputs": [
    {
     "data": {
      "text/plain": [
       "id             2557\n",
       "url            2557\n",
       "landmark_id     100\n",
       "dtype: int64"
      ]
     },
     "execution_count": 10,
     "metadata": {},
     "output_type": "execute_result"
    }
   ],
   "source": [
    "train_sample.nunique()"
   ]
  },
  {
   "cell_type": "code",
   "execution_count": 11,
   "metadata": {},
   "outputs": [
    {
     "data": {
      "text/plain": [
       "138982    0.080172\n",
       "62798     0.034024\n",
       "177870    0.026203\n",
       "176528    0.025420\n",
       "192931    0.020727\n",
       "Name: landmark_id, dtype: float64"
      ]
     },
     "execution_count": 11,
     "metadata": {},
     "output_type": "execute_result"
    }
   ],
   "source": [
    "landmark_dist = train_sample['landmark_id'].value_counts() / train_sample.shape[0]\n",
    "landmark_dist.head()"
   ]
  },
  {
   "cell_type": "code",
   "execution_count": 12,
   "metadata": {},
   "outputs": [
    {
     "data": {
      "image/png": "[encoded data removed]",
      "text/plain": [
       "<Figure size 1008x288 with 1 Axes>"
      ]
     },
     "metadata": {
      "needs_background": "light"
     },
     "output_type": "display_data"
    }
   ],
   "source": [
    "plt.figure(figsize = (14, 4))\n",
    "fig = plt.bar(range(100), landmark_dist)\n",
    "plt.xlabel(\"Landmark\")\n",
    "plt.ylabel(\"Proportion of Landmark in Train Dataset\")\n",
    "plt.savefig('./report/class_dist.png')"
   ]
  },
  {
   "cell_type": "markdown",
   "metadata": {},
   "source": [
    "### Manually select two landmark images"
   ]
  },
  {
   "cell_type": "code",
   "execution_count": 17,
   "metadata": {},
   "outputs": [
    {
     "ename": "ModuleNotFoundError",
     "evalue": "No module named 'cv2'",
     "output_type": "error",
     "traceback": [
      "\u001b[1;31m---------------------------------------------------------------------------\u001b[0m",
      "\u001b[1;31mModuleNotFoundError\u001b[0m                       Traceback (most recent call last)",
      "\u001b[1;32m<ipython-input-17-5312a3f5cf99>\u001b[0m in \u001b[0;36m<module>\u001b[1;34m\u001b[0m\n\u001b[1;32m----> 1\u001b[1;33m \u001b[1;32mimport\u001b[0m \u001b[0mcv2\u001b[0m\u001b[1;33m\u001b[0m\u001b[1;33m\u001b[0m\u001b[0m\n\u001b[0m\u001b[0;32m      2\u001b[0m \u001b[0mimg\u001b[0m \u001b[1;33m=\u001b[0m \u001b[0mcv2\u001b[0m\u001b[1;33m.\u001b[0m\u001b[0mimread\u001b[0m\u001b[1;33m(\u001b[0m\u001b[1;34m'./train_images/1e67f4466c315b98.jpg'\u001b[0m\u001b[1;33m)\u001b[0m\u001b[1;33m\u001b[0m\u001b[1;33m\u001b[0m\u001b[0m\n\u001b[0;32m      3\u001b[0m \u001b[0mcv_rgb\u001b[0m \u001b[1;33m=\u001b[0m \u001b[0mcv2\u001b[0m\u001b[1;33m.\u001b[0m\u001b[0mcvtColor\u001b[0m\u001b[1;33m(\u001b[0m\u001b[0mimg\u001b[0m\u001b[1;33m,\u001b[0m \u001b[0mcv2\u001b[0m\u001b[1;33m.\u001b[0m\u001b[0mCOLOR_BGR2RGB\u001b[0m\u001b[1;33m)\u001b[0m\u001b[1;33m\u001b[0m\u001b[1;33m\u001b[0m\u001b[0m\n\u001b[0;32m      4\u001b[0m \u001b[0mplt\u001b[0m\u001b[1;33m.\u001b[0m\u001b[0mimshow\u001b[0m\u001b[1;33m(\u001b[0m\u001b[0mcv_rgb\u001b[0m\u001b[1;33m)\u001b[0m\u001b[1;33m\u001b[0m\u001b[1;33m\u001b[0m\u001b[0m\n\u001b[0;32m      5\u001b[0m \u001b[0mplt\u001b[0m\u001b[1;33m.\u001b[0m\u001b[0mshow\u001b[0m\u001b[1;33m(\u001b[0m\u001b[1;33m)\u001b[0m\u001b[1;33m\u001b[0m\u001b[1;33m\u001b[0m\u001b[0m\n",
      "\u001b[1;31mModuleNotFoundError\u001b[0m: No module named 'cv2'"
     ]
    }
   ],
   "source": [
    "import cv2\n",
    "img = cv2.imread('./train_images/1e67f4466c315b98.jpg')\n",
    "cv_rgb = cv2.cvtColor(img, cv2.COLOR_BGR2RGB)\n",
    "plt.imshow(cv_rgb)\n",
    "plt.show()"
   ]
  },
  {
   "cell_type": "code",
   "execution_count": 15,
   "metadata": {},
   "outputs": [
    {
     "ename": "NameError",
     "evalue": "name 'cv2' is not defined",
     "output_type": "error",
     "traceback": [
      "\u001b[1;31m---------------------------------------------------------------------------\u001b[0m",
      "\u001b[1;31mNameError\u001b[0m                                 Traceback (most recent call last)",
      "\u001b[1;32m<ipython-input-15-3a2263030752>\u001b[0m in \u001b[0;36m<module>\u001b[1;34m\u001b[0m\n\u001b[1;32m----> 1\u001b[1;33m \u001b[0mimg\u001b[0m \u001b[1;33m=\u001b[0m \u001b[0mcv2\u001b[0m\u001b[1;33m.\u001b[0m\u001b[0mimread\u001b[0m\u001b[1;33m(\u001b[0m\u001b[1;34m'./train_images/0b2dd64659df3415.jpg'\u001b[0m\u001b[1;33m)\u001b[0m\u001b[1;33m\u001b[0m\u001b[1;33m\u001b[0m\u001b[0m\n\u001b[0m\u001b[0;32m      2\u001b[0m \u001b[0mcv_rgb\u001b[0m \u001b[1;33m=\u001b[0m \u001b[0mcv2\u001b[0m\u001b[1;33m.\u001b[0m\u001b[0mcvtColor\u001b[0m\u001b[1;33m(\u001b[0m\u001b[0mimg\u001b[0m\u001b[1;33m,\u001b[0m \u001b[0mcv2\u001b[0m\u001b[1;33m.\u001b[0m\u001b[0mCOLOR_BGR2RGB\u001b[0m\u001b[1;33m)\u001b[0m\u001b[1;33m\u001b[0m\u001b[1;33m\u001b[0m\u001b[0m\n\u001b[0;32m      3\u001b[0m \u001b[0mplt\u001b[0m\u001b[1;33m.\u001b[0m\u001b[0mimshow\u001b[0m\u001b[1;33m(\u001b[0m\u001b[0mcv_rgb\u001b[0m\u001b[1;33m)\u001b[0m\u001b[1;33m\u001b[0m\u001b[1;33m\u001b[0m\u001b[0m\n\u001b[0;32m      4\u001b[0m \u001b[0mplt\u001b[0m\u001b[1;33m.\u001b[0m\u001b[0mshow\u001b[0m\u001b[1;33m(\u001b[0m\u001b[1;33m)\u001b[0m\u001b[1;33m\u001b[0m\u001b[1;33m\u001b[0m\u001b[0m\n",
      "\u001b[1;31mNameError\u001b[0m: name 'cv2' is not defined"
     ]
    }
   ],
   "source": [
    "img = cv2.imread('./train_images/0b2dd64659df3415.jpg')\n",
    "cv_rgb = cv2.cvtColor(img, cv2.COLOR_BGR2RGB)\n",
    "plt.imshow(cv_rgb)\n",
    "plt.show()"
   ]
  },
  {
   "cell_type": "markdown",
   "metadata": {},
   "source": [
    "## Split dataset into train, validation and test"
   ]
  },
  {
   "cell_type": "markdown",
   "metadata": {},
   "source": [
    "### Stratified sampling of training, validation and test dataset with 0.8, 0.1 and 0.1 split"
   ]
  },
  {
   "cell_type": "code",
   "execution_count": 16,
   "metadata": {},
   "outputs": [],
   "source": [
    "from sklearn.model_selection import StratifiedShuffleSplit\n",
    "\n",
    "X = train_sample['id']\n",
    "y = train_sample['landmark_id']\n",
    "\n",
    "sss = StratifiedShuffleSplit(n_splits=1, test_size=0.2, random_state=10)\n",
    "\n",
    "for train_id, test_id in sss.split(X, y):\n",
    "    X_train, X_tmp = X.iloc[train_id], X.iloc[test_id]\n",
    "    y_train, y_tmp = y.iloc[train_id], y.iloc[test_id]\n",
    "    \n",
    "sss1 = StratifiedShuffleSplit(n_splits=1, test_size=0.5, random_state=10)\n",
    "\n",
    "for train_id, test_id in sss1.split(X_tmp, y_tmp):\n",
    "    X_valid, X_test = X_tmp.iloc[train_id], X_tmp.iloc[test_id]\n",
    "    y_valid, y_test = y_tmp.iloc[train_id], y_tmp.iloc[test_id]"
   ]
  },
  {
   "cell_type": "markdown",
   "metadata": {},
   "source": [
    "### Frequency of landmark_id in training dataset"
   ]
  },
  {
   "cell_type": "code",
   "execution_count": 17,
   "metadata": {
    "scrolled": true
   },
   "outputs": [
    {
     "data": {
      "image/png": "[encoded data removed]",
      "text/plain": [
       "<Figure size 1008x288 with 1 Axes>"
      ]
     },
     "metadata": {
      "needs_background": "light"
     },
     "output_type": "display_data"
    }
   ],
   "source": [
    "plt.figure(figsize = (14, 4))\n",
    "h = sns.countplot(x=y_train)\n",
    "h.set_title(\"Frequency of Landmark ID\", fontweight=\"bold\", fontsize=12)\n",
    "plt.xticks(rotation=90)\n",
    "plt.show()"
   ]
  },
  {
   "cell_type": "markdown",
   "metadata": {},
   "source": [
    "### Frequency of landmark_id in test dataset"
   ]
  },
  {
   "cell_type": "code",
   "execution_count": 18,
   "metadata": {
    "scrolled": true
   },
   "outputs": [
    {
     "data": {
      "image/png": "[encoded data removed]",
      "text/plain": [
       "<Figure size 1008x288 with 1 Axes>"
      ]
     },
     "metadata": {
      "needs_background": "light"
     },
     "output_type": "display_data"
    }
   ],
   "source": [
    "plt.figure(figsize = (14, 4))\n",
    "h = sns.countplot(x=y_test)\n",
    "h.set_title(\"Frequency of landmark_id\", fontweight=\"bold\", fontsize=12)\n",
    "plt.xticks(rotation=90)\n",
    "plt.show()"
   ]
  },
  {
   "cell_type": "markdown",
   "metadata": {},
   "source": [
    "## Benchmark Model - Random Guessing as base model\n",
    "### Expected accuracy"
   ]
  },
  {
   "cell_type": "code",
   "execution_count": 19,
   "metadata": {},
   "outputs": [],
   "source": [
    "from itertools import combinations\n",
    "\n",
    "def expected_acc(prob_id):\n",
    "    \n",
    "    prob_id_c = 1 - prob_id\n",
    "    prob_correct_number = []\n",
    "\n",
    "    for i in range(len(prob_id)+1):\n",
    "\n",
    "        id_comb = list(combinations(range(len(prob_id)), r=i))\n",
    "        \n",
    "        id_notcomb = [tuple(set(range(len(prob_id)))^set(x)) for x in id_comb]\n",
    "\n",
    "        prob_comb = np.array([[prob_id[x] for x in id_comb[i]] for i in range(len(id_comb))])\n",
    "        prob_notcomb = np.array([[prob_id_c[x] for x in id_notcomb[i]] for i in range(len(id_notcomb))])\n",
    "\n",
    "        prob_num = np.hstack((prob_comb, prob_notcomb))\n",
    "        ss = sum([np.prod(x) for x in prob_num])\n",
    "\n",
    "        prob_correct_number.append(ss)\n",
    "\n",
    "    expected_correct_num = sum(np.array(range(len(prob_id)+1)) * np.array(prob_correct_number))\n",
    "    expected_accuracy = expected_correct_num / len(prob_id)\n",
    "    \n",
    "    return([expected_correct_num, expected_accuracy])"
   ]
  },
  {
   "cell_type": "markdown",
   "metadata": {},
   "source": [
    "### Monte Carlo simulation of expected accuracy"
   ]
  },
  {
   "cell_type": "code",
   "execution_count": 20,
   "metadata": {
    "scrolled": true
   },
   "outputs": [
    {
     "name": "stdout",
     "output_type": "stream",
     "text": [
      "516997      6599\n",
      "1002842     6051\n",
      "992271      4352\n",
      "1140249     6051\n",
      "537920     12220\n",
      "Name: landmark_id, dtype: object\n"
     ]
    }
   ],
   "source": [
    "import random\n",
    "\n",
    "### Calculate probability of correctly classifying a landmark_id, P(id)\n",
    "\n",
    "# prob_id = np.array([0.25, 0.1]) # Example try out given the probability of two images\n",
    "\n",
    "# Calculates probabilities of all landmark_id\n",
    "print(y_test.head())\n",
    "prob_id = np.array([(y_test == id).sum() / len(y_test) for id in y_test]) \n",
    "seed = [3, 10, 27, 31, 48, 55, 67, 95, 105, 117]\n",
    "\n",
    "expected_val_df = pd.DataFrame(columns=['E(x)', 'Accuracy'])\n",
    "\n",
    "for i in seed:\n",
    "    random.seed(i)\n",
    "    randsample = random.sample(range(len(y_test)), 10)\n",
    "    \n",
    "    prob_id_montecarlo = prob_id[randsample]  # random selection of 20 images (instead of total test dataset)\n",
    "    expected_val_df.loc[len(expected_val_df)] = expected_acc(prob_id_montecarlo)"
   ]
  },
  {
   "cell_type": "code",
   "execution_count": 21,
   "metadata": {
    "scrolled": false
   },
   "outputs": [
    {
     "data": {
      "text/html": [
       "<div>\n",
       "<style scoped>\n",
       "    .dataframe tbody tr th:only-of-type {\n",
       "        vertical-align: middle;\n",
       "    }\n",
       "\n",
       "    .dataframe tbody tr th {\n",
       "        vertical-align: top;\n",
       "    }\n",
       "\n",
       "    .dataframe thead th {\n",
       "        text-align: right;\n",
       "    }\n",
       "</style>\n",
       "<table border=\"1\" class=\"dataframe\">\n",
       "  <thead>\n",
       "    <tr style=\"text-align: right;\">\n",
       "      <th></th>\n",
       "      <th>E(x)</th>\n",
       "      <th>Accuracy</th>\n",
       "    </tr>\n",
       "  </thead>\n",
       "  <tbody>\n",
       "    <tr>\n",
       "      <td>0</td>\n",
       "      <td>0.421420</td>\n",
       "      <td>0.042142</td>\n",
       "    </tr>\n",
       "    <tr>\n",
       "      <td>1</td>\n",
       "      <td>0.456345</td>\n",
       "      <td>0.045634</td>\n",
       "    </tr>\n",
       "    <tr>\n",
       "      <td>2</td>\n",
       "      <td>0.890570</td>\n",
       "      <td>0.089057</td>\n",
       "    </tr>\n",
       "    <tr>\n",
       "      <td>3</td>\n",
       "      <td>0.376019</td>\n",
       "      <td>0.037602</td>\n",
       "    </tr>\n",
       "    <tr>\n",
       "      <td>4</td>\n",
       "      <td>0.403958</td>\n",
       "      <td>0.040396</td>\n",
       "    </tr>\n",
       "    <tr>\n",
       "      <td>5</td>\n",
       "      <td>0.557625</td>\n",
       "      <td>0.055763</td>\n",
       "    </tr>\n",
       "    <tr>\n",
       "      <td>6</td>\n",
       "      <td>0.450524</td>\n",
       "      <td>0.045052</td>\n",
       "    </tr>\n",
       "    <tr>\n",
       "      <td>7</td>\n",
       "      <td>0.493597</td>\n",
       "      <td>0.049360</td>\n",
       "    </tr>\n",
       "    <tr>\n",
       "      <td>8</td>\n",
       "      <td>0.282887</td>\n",
       "      <td>0.028289</td>\n",
       "    </tr>\n",
       "    <tr>\n",
       "      <td>9</td>\n",
       "      <td>0.462165</td>\n",
       "      <td>0.046217</td>\n",
       "    </tr>\n",
       "  </tbody>\n",
       "</table>\n",
       "</div>"
      ],
      "text/plain": [
       "       E(x)  Accuracy\n",
       "0  0.421420  0.042142\n",
       "1  0.456345  0.045634\n",
       "2  0.890570  0.089057\n",
       "3  0.376019  0.037602\n",
       "4  0.403958  0.040396\n",
       "5  0.557625  0.055763\n",
       "6  0.450524  0.045052\n",
       "7  0.493597  0.049360\n",
       "8  0.282887  0.028289\n",
       "9  0.462165  0.046217"
      ]
     },
     "execution_count": 21,
     "metadata": {},
     "output_type": "execute_result"
    }
   ],
   "source": [
    "expected_val_df"
   ]
  },
  {
   "cell_type": "code",
   "execution_count": 22,
   "metadata": {},
   "outputs": [
    {
     "data": {
      "text/html": [
       "<div>\n",
       "<style scoped>\n",
       "    .dataframe tbody tr th:only-of-type {\n",
       "        vertical-align: middle;\n",
       "    }\n",
       "\n",
       "    .dataframe tbody tr th {\n",
       "        vertical-align: top;\n",
       "    }\n",
       "\n",
       "    .dataframe thead th {\n",
       "        text-align: right;\n",
       "    }\n",
       "</style>\n",
       "<table border=\"1\" class=\"dataframe\">\n",
       "  <thead>\n",
       "    <tr style=\"text-align: right;\">\n",
       "      <th></th>\n",
       "      <th>0</th>\n",
       "      <th>1</th>\n",
       "      <th>2</th>\n",
       "      <th>3</th>\n",
       "      <th>4</th>\n",
       "      <th>5</th>\n",
       "      <th>6</th>\n",
       "      <th>7</th>\n",
       "      <th>8</th>\n",
       "      <th>9</th>\n",
       "    </tr>\n",
       "  </thead>\n",
       "  <tbody>\n",
       "    <tr>\n",
       "      <td>E(x)</td>\n",
       "      <td>0.421</td>\n",
       "      <td>0.456</td>\n",
       "      <td>0.891</td>\n",
       "      <td>0.376</td>\n",
       "      <td>0.404</td>\n",
       "      <td>0.558</td>\n",
       "      <td>0.451</td>\n",
       "      <td>0.494</td>\n",
       "      <td>0.283</td>\n",
       "      <td>0.462</td>\n",
       "    </tr>\n",
       "    <tr>\n",
       "      <td>Accuracy</td>\n",
       "      <td>0.042</td>\n",
       "      <td>0.046</td>\n",
       "      <td>0.089</td>\n",
       "      <td>0.038</td>\n",
       "      <td>0.040</td>\n",
       "      <td>0.056</td>\n",
       "      <td>0.045</td>\n",
       "      <td>0.049</td>\n",
       "      <td>0.028</td>\n",
       "      <td>0.046</td>\n",
       "    </tr>\n",
       "  </tbody>\n",
       "</table>\n",
       "</div>"
      ],
      "text/plain": [
       "              0      1      2      3      4      5      6      7      8      9\n",
       "E(x)      0.421  0.456  0.891  0.376  0.404  0.558  0.451  0.494  0.283  0.462\n",
       "Accuracy  0.042  0.046  0.089  0.038  0.040  0.056  0.045  0.049  0.028  0.046"
      ]
     },
     "execution_count": 22,
     "metadata": {},
     "output_type": "execute_result"
    }
   ],
   "source": [
    "round(expected_val_df.T,3)"
   ]
  },
  {
   "cell_type": "code",
   "execution_count": 23,
   "metadata": {},
   "outputs": [
    {
     "data": {
      "text/plain": [
       "E(x)        0.479511\n",
       "Accuracy    0.047951\n",
       "dtype: float64"
      ]
     },
     "execution_count": 23,
     "metadata": {},
     "output_type": "execute_result"
    }
   ],
   "source": [
    "expected_val_df.mean()"
   ]
  },
  {
   "cell_type": "markdown",
   "metadata": {},
   "source": [
    "## Create Train, Validation and Test Tensors for CNN"
   ]
  },
  {
   "cell_type": "code",
   "execution_count": 24,
   "metadata": {},
   "outputs": [
    {
     "name": "stderr",
     "output_type": "stream",
     "text": [
      "Using TensorFlow backend.\n"
     ]
    }
   ],
   "source": [
    "import os\n",
    "from keras.preprocessing import image  \n",
    "from tqdm import tqdm\n",
    "\n",
    "img_shape = (192, 256) # Image shape (height, width)\n",
    "\n",
    "def path_to_tensor(img_path):\n",
    "    # loads RGB image as PIL.Image.Image type\n",
    "    ret = np.empty([192, 256, 3], dtype=int)\n",
    "    if os.path.exists(img_path):\n",
    "        try:\n",
    "            img = image.load_img(img_path, target_size=img_shape)\n",
    "            # convert PIL.Image.Image type to 3D tensor with shape (192, 256, 3)\n",
    "            ret = image.img_to_array(img)\n",
    "        except:\n",
    "            pass\n",
    "        # convert 3D tensor to 4D tensor with shape (1, 192, 256, 3) and return 4D tensor\n",
    "        return  np.expand_dims(ret, axis=0)\n",
    "\n",
    "\n",
    "def paths_to_tensor(img_paths):\n",
    "    list_of_tensors = []\n",
    "    for img_path in img_paths:\n",
    "        tensor = path_to_tensor(img_path)\n",
    "        list_of_tensors.append(tensor)\n",
    "    print(len(list_of_tensors))\n",
    "    return np.vstack(list_of_tensors)"
   ]
  },
  {
   "cell_type": "code",
   "execution_count": 25,
   "metadata": {},
   "outputs": [],
   "source": [
    "from glob import glob\n",
    "import os\n",
    "\n",
    "# define function to load train, test, and validation datasets\n",
    "train_path = './train_images/'\n",
    "valid_path = './valid_images/'\n",
    "test_path = './test_images/'\n",
    "\n",
    "def load_dataset(path, train_sample):\n",
    "    file_out = sorted(glob(path + '*'))\n",
    "    file_out = np.array([s.replace(\"\\\\\", \"/\") for s in file_out])\n",
    "    \n",
    "    label_out = pd.Series(name=\"landmark_id\")\n",
    "    \n",
    "    for file in file_out:\n",
    "        filebase = os.path.basename(file)\n",
    "        name = os.path.splitext(filebase)[0]\n",
    "        temp = train_sample.landmark_id[train_sample[\"id\"] == name]\n",
    "        label_out = label_out.append(temp)\n",
    "        \n",
    "    label_out = np.array(pd.get_dummies(label_out))\n",
    "    \n",
    "    return file_out, label_out"
   ]
  },
  {
   "cell_type": "code",
   "execution_count": 26,
   "metadata": {},
   "outputs": [],
   "source": [
    "train_file, train_target = load_dataset(train_path, train_sample)\n",
    "valid_file, valid_target = load_dataset(valid_path, train_sample)\n",
    "test_file, test_target = load_dataset(test_path, train_sample)"
   ]
  },
  {
   "cell_type": "code",
   "execution_count": 27,
   "metadata": {
    "scrolled": true
   },
   "outputs": [
    {
     "name": "stdout",
     "output_type": "stream",
     "text": [
      "Number of training images: 6373\n",
      "Number of validation images: 797\n",
      "Number of test images: 797\n"
     ]
    }
   ],
   "source": [
    "print(\"Number of training images:\", len(train_target))\n",
    "print(\"Number of validation images:\", len(valid_target))\n",
    "print(\"Number of test images:\", len(test_target))"
   ]
  },
  {
   "cell_type": "code",
   "execution_count": 28,
   "metadata": {
    "scrolled": false
   },
   "outputs": [
    {
     "name": "stderr",
     "output_type": "stream",
     "text": [
      "//anaconda3/envs/env/lib/python3.7/site-packages/PIL/Image.py:993: UserWarning: Palette images with Transparency expressed in bytes should be converted to RGBA images\n",
      "  \"Palette images with Transparency expressed in bytes should be \"\n"
     ]
    },
    {
     "name": "stdout",
     "output_type": "stream",
     "text": [
      "6373\n",
      "797\n",
      "797\n"
     ]
    }
   ],
   "source": [
    "train_tensors = paths_to_tensor(train_file).astype('float32')/255\n",
    "valid_tensors = paths_to_tensor(valid_file).astype('float32')/255\n",
    "test_tensors  = paths_to_tensor(test_file).astype('float32')/255"
   ]
  },
  {
   "cell_type": "code",
   "execution_count": 29,
   "metadata": {
    "scrolled": false
   },
   "outputs": [
    {
     "data": {
      "text/plain": [
       "(6373, 192, 256, 3)"
      ]
     },
     "execution_count": 29,
     "metadata": {},
     "output_type": "execute_result"
    }
   ],
   "source": [
    "train_tensors.shape"
   ]
  },
  {
   "cell_type": "markdown",
   "metadata": {},
   "source": [
    "### An exmple image of a train tensor and label"
   ]
  },
  {
   "cell_type": "code",
   "execution_count": 30,
   "metadata": {},
   "outputs": [
    {
     "data": {
      "text/plain": [
       "<matplotlib.image.AxesImage at 0x1a3a9fa0d0>"
      ]
     },
     "execution_count": 30,
     "metadata": {},
     "output_type": "execute_result"
    },
    {
     "data": {
      "image/png": "[encoded data removed]",
      "text/plain": [
       "<Figure size 432x288 with 1 Axes>"
      ]
     },
     "metadata": {
      "needs_background": "light"
     },
     "output_type": "display_data"
    }
   ],
   "source": [
    "plt.imshow(train_tensors[2])"
   ]
  },
  {
   "cell_type": "code",
   "execution_count": 31,
   "metadata": {
    "scrolled": true
   },
   "outputs": [
    {
     "data": {
      "text/plain": [
       "(99,)"
      ]
     },
     "execution_count": 31,
     "metadata": {},
     "output_type": "execute_result"
    }
   ],
   "source": [
    "train_target[2].shape\n"
   ]
  },
  {
   "cell_type": "markdown",
   "metadata": {},
   "source": [
    "## Base CNN Model\n",
    "### Model Compile"
   ]
  },
  {
   "cell_type": "code",
   "execution_count": 32,
   "metadata": {},
   "outputs": [],
   "source": [
    "from keras import optimizers\n",
    "from keras.models import Sequential\n",
    "from keras.layers import Conv2D, MaxPooling2D, GlobalAveragePooling2D\n",
    "from keras.layers import Activation, Dropout, Flatten, Dense\n",
    "from keras.layers.normalization import BatchNormalization\n",
    "from keras.preprocessing.image import ImageDataGenerator\n",
    "from keras.callbacks import ModelCheckpoint"
   ]
  },
  {
   "cell_type": "code",
   "execution_count": 33,
   "metadata": {
    "scrolled": false
   },
   "outputs": [
    {
     "name": "stderr",
     "output_type": "stream",
     "text": [
      "WARNING: Logging before flag parsing goes to stderr.\n",
      "W0926 19:50:54.342782 4484236736 deprecation_wrapper.py:119] From //anaconda3/envs/env/lib/python3.7/site-packages/keras/backend/tensorflow_backend.py:74: The name tf.get_default_graph is deprecated. Please use tf.compat.v1.get_default_graph instead.\n",
      "\n",
      "W0926 19:50:56.337821 4484236736 deprecation_wrapper.py:119] From //anaconda3/envs/env/lib/python3.7/site-packages/keras/backend/tensorflow_backend.py:517: The name tf.placeholder is deprecated. Please use tf.compat.v1.placeholder instead.\n",
      "\n",
      "W0926 19:50:58.253604 4484236736 deprecation_wrapper.py:119] From //anaconda3/envs/env/lib/python3.7/site-packages/keras/backend/tensorflow_backend.py:4138: The name tf.random_uniform is deprecated. Please use tf.random.uniform instead.\n",
      "\n",
      "W0926 19:50:59.138793 4484236736 deprecation_wrapper.py:119] From //anaconda3/envs/env/lib/python3.7/site-packages/keras/backend/tensorflow_backend.py:3976: The name tf.nn.max_pool is deprecated. Please use tf.nn.max_pool2d instead.\n",
      "\n",
      "W0926 19:50:59.559036 4484236736 deprecation_wrapper.py:119] From //anaconda3/envs/env/lib/python3.7/site-packages/keras/backend/tensorflow_backend.py:133: The name tf.placeholder_with_default is deprecated. Please use tf.compat.v1.placeholder_with_default instead.\n",
      "\n",
      "W0926 19:50:59.587774 4484236736 deprecation.py:506] From //anaconda3/envs/env/lib/python3.7/site-packages/keras/backend/tensorflow_backend.py:3445: calling dropout (from tensorflow.python.ops.nn_ops) with keep_prob is deprecated and will be removed in a future version.\n",
      "Instructions for updating:\n",
      "Please use `rate` instead of `keep_prob`. Rate should be set to `rate = 1 - keep_prob`.\n"
     ]
    },
    {
     "name": "stdout",
     "output_type": "stream",
     "text": [
      "_________________________________________________________________\n",
      "Layer (type)                 Output Shape              Param #   \n",
      "=================================================================\n",
      "conv2d_1 (Conv2D)            (None, 192, 256, 16)      784       \n",
      "_________________________________________________________________\n",
      "max_pooling2d_1 (MaxPooling2 (None, 96, 128, 16)       0         \n",
      "_________________________________________________________________\n",
      "conv2d_2 (Conv2D)            (None, 96, 128, 32)       4640      \n",
      "_________________________________________________________________\n",
      "max_pooling2d_2 (MaxPooling2 (None, 48, 64, 32)        0         \n",
      "_________________________________________________________________\n",
      "conv2d_3 (Conv2D)            (None, 48, 64, 64)        18496     \n",
      "_________________________________________________________________\n",
      "max_pooling2d_3 (MaxPooling2 (None, 24, 32, 64)        0         \n",
      "_________________________________________________________________\n",
      "conv2d_4 (Conv2D)            (None, 24, 32, 128)       32896     \n",
      "_________________________________________________________________\n",
      "max_pooling2d_4 (MaxPooling2 (None, 12, 16, 128)       0         \n",
      "_________________________________________________________________\n",
      "conv2d_5 (Conv2D)            (None, 12, 16, 256)       131328    \n",
      "_________________________________________________________________\n",
      "max_pooling2d_5 (MaxPooling2 (None, 6, 8, 256)         0         \n",
      "_________________________________________________________________\n",
      "flatten_1 (Flatten)          (None, 12288)             0         \n",
      "_________________________________________________________________\n",
      "dense_1 (Dense)              (None, 1024)              12583936  \n",
      "_________________________________________________________________\n",
      "dropout_1 (Dropout)          (None, 1024)              0         \n",
      "_________________________________________________________________\n",
      "dense_2 (Dense)              (None, 512)               524800    \n",
      "_________________________________________________________________\n",
      "dropout_2 (Dropout)          (None, 512)               0         \n",
      "_________________________________________________________________\n",
      "dense_3 (Dense)              (None, 99)                50787     \n",
      "=================================================================\n",
      "Total params: 13,347,667\n",
      "Trainable params: 13,347,667\n",
      "Non-trainable params: 0\n",
      "_________________________________________________________________\n"
     ]
    }
   ],
   "source": [
    "input_shape = img_shape + (3,)\n",
    "\n",
    "model = Sequential()\n",
    "\n",
    "model.add(Conv2D(filters=16, kernel_size=4, padding='same', activation='relu', input_shape=input_shape))\n",
    "model.add(MaxPooling2D(pool_size=2))\n",
    "\n",
    "model.add(Conv2D(filters=32, kernel_size=3, padding='same', activation='relu'))\n",
    "model.add(MaxPooling2D(pool_size=2))\n",
    "\n",
    "model.add(Conv2D(filters=64, kernel_size=3, padding='same', activation='relu'))\n",
    "model.add(MaxPooling2D(pool_size=2))\n",
    "\n",
    "model.add(Conv2D(filters=128, kernel_size=2, padding='same', activation='relu'))\n",
    "model.add(MaxPooling2D(pool_size=2))\n",
    "\n",
    "model.add(Conv2D(filters=256, kernel_size=2, padding='same', activation='relu'))\n",
    "model.add(MaxPooling2D(pool_size=2))\n",
    "\n",
    "model.add(Flatten())\n",
    "model.add(Dense(1024, activation='relu'))\n",
    "model.add(Dropout(0.3))\n",
    "model.add(Dense(512, activation='relu'))\n",
    "model.add(Dropout(0.3))\n",
    "model.add(Dense(99, activation='softmax'))\n",
    "\n",
    "model.summary()"
   ]
  },
  {
   "cell_type": "code",
   "execution_count": 34,
   "metadata": {},
   "outputs": [
    {
     "name": "stderr",
     "output_type": "stream",
     "text": [
      "W0926 19:51:03.447691 4484236736 deprecation_wrapper.py:119] From //anaconda3/envs/env/lib/python3.7/site-packages/keras/optimizers.py:790: The name tf.train.Optimizer is deprecated. Please use tf.compat.v1.train.Optimizer instead.\n",
      "\n",
      "W0926 19:51:03.482262 4484236736 deprecation_wrapper.py:119] From //anaconda3/envs/env/lib/python3.7/site-packages/keras/backend/tensorflow_backend.py:3295: The name tf.log is deprecated. Please use tf.math.log instead.\n",
      "\n"
     ]
    }
   ],
   "source": [
    "model.compile(optimizer='adam', loss='categorical_crossentropy', metrics=['accuracy'])"
   ]
  },
  {
   "cell_type": "markdown",
   "metadata": {},
   "source": [
    "### Model Train"
   ]
  },
  {
   "cell_type": "code",
   "execution_count": 36,
   "metadata": {},
   "outputs": [
    {
     "name": "stdout",
     "output_type": "stream",
     "text": [
      "Train on 6373 samples, validate on 797 samples\n",
      "Epoch 1/10\n",
      "6373/6373 [==============================] - 741s 116ms/step - loss: 3.8909 - acc: 0.1462 - val_loss: 4.0121 - val_acc: 0.1455\n",
      "\n",
      "Epoch 00001: val_loss improved from inf to 4.01213, saving model to saved_models/weights.best.from_baseCNN.hdf5\n",
      "Epoch 2/10\n",
      "6373/6373 [==============================] - 726s 114ms/step - loss: 3.7157 - acc: 0.1867 - val_loss: 3.7967 - val_acc: 0.2146\n",
      "\n",
      "Epoch 00002: val_loss improved from 4.01213 to 3.79670, saving model to saved_models/weights.best.from_baseCNN.hdf5\n",
      "Epoch 3/10\n",
      "6373/6373 [==============================] - 717s 112ms/step - loss: 3.4779 - acc: 0.2264 - val_loss: 3.5277 - val_acc: 0.2434\n",
      "\n",
      "Epoch 00003: val_loss improved from 3.79670 to 3.52774, saving model to saved_models/weights.best.from_baseCNN.hdf5\n",
      "Epoch 4/10\n",
      "6373/6373 [==============================] - 718s 113ms/step - loss: 3.1765 - acc: 0.2823 - val_loss: 3.2221 - val_acc: 0.2923\n",
      "\n",
      "Epoch 00004: val_loss improved from 3.52774 to 3.22207, saving model to saved_models/weights.best.from_baseCNN.hdf5\n",
      "Epoch 5/10\n",
      "6373/6373 [==============================] - 717s 113ms/step - loss: 2.8129 - acc: 0.3466 - val_loss: 3.1517 - val_acc: 0.3262\n",
      "\n",
      "Epoch 00005: val_loss improved from 3.22207 to 3.15173, saving model to saved_models/weights.best.from_baseCNN.hdf5\n",
      "Epoch 6/10\n",
      "6373/6373 [==============================] - 718s 113ms/step - loss: 2.4780 - acc: 0.4069 - val_loss: 3.0313 - val_acc: 0.3488\n",
      "\n",
      "Epoch 00006: val_loss improved from 3.15173 to 3.03126, saving model to saved_models/weights.best.from_baseCNN.hdf5\n",
      "Epoch 7/10\n",
      "6373/6373 [==============================] - 719s 113ms/step - loss: 2.0867 - acc: 0.4861 - val_loss: 2.9953 - val_acc: 0.3739\n",
      "\n",
      "Epoch 00007: val_loss improved from 3.03126 to 2.99531, saving model to saved_models/weights.best.from_baseCNN.hdf5\n",
      "Epoch 8/10\n",
      "6373/6373 [==============================] - 720s 113ms/step - loss: 1.7328 - acc: 0.5616 - val_loss: 3.0252 - val_acc: 0.3752\n",
      "\n",
      "Epoch 00008: val_loss did not improve from 2.99531\n",
      "Epoch 9/10\n",
      "6373/6373 [==============================] - 717s 113ms/step - loss: 1.3791 - acc: 0.6477 - val_loss: 3.3110 - val_acc: 0.3877\n",
      "\n",
      "Epoch 00009: val_loss did not improve from 2.99531\n",
      "Epoch 10/10\n",
      "6373/6373 [==============================] - 725s 114ms/step - loss: 1.1038 - acc: 0.7116 - val_loss: 3.3265 - val_acc: 0.4078\n",
      "\n",
      "Epoch 00010: val_loss did not improve from 2.99531\n"
     ]
    }
   ],
   "source": [
    "from keras.callbacks import ModelCheckpoint\n",
    "\n",
    "epochs = 10\n",
    "\n",
    "checkpointer = ModelCheckpoint(filepath='saved_models/weights.best.from_baseCNN.hdf5', \n",
    "                               verbose=1, save_best_only=True)\n",
    "\n",
    "hist = model.fit(train_tensors, train_target, \n",
    "          validation_data=(valid_tensors, valid_target),\n",
    "          epochs=epochs, batch_size=64, callbacks=[checkpointer], verbose=1)"
   ]
  },
  {
   "cell_type": "markdown",
   "metadata": {},
   "source": [
    "### Test Accuracy"
   ]
  },
  {
   "cell_type": "code",
   "execution_count": 37,
   "metadata": {
    "scrolled": true
   },
   "outputs": [
    {
     "name": "stdout",
     "output_type": "stream",
     "text": [
      "Test accuracy: 0.4077791718946048\n"
     ]
    }
   ],
   "source": [
    "model.load_weights('saved_models/weights.best.from_baseCNN.hdf5')\n",
    "\n",
    "landmark_pred = [np.argmax(model.predict(np.expand_dims(tensor, axis=0))) for tensor in test_tensors]\n",
    "test_accuracy = np.sum(np.array(landmark_pred) == np.argmax(test_target, axis=1)) / len(landmark_pred)\n",
    "print('Test accuracy:', test_accuracy)"
   ]
  },
  {
   "cell_type": "markdown",
   "metadata": {},
   "source": [
    "## Data Augmentation"
   ]
  },
  {
   "cell_type": "markdown",
   "metadata": {},
   "source": [
    "### Model Train"
   ]
  },
  {
   "cell_type": "code",
   "execution_count": 38,
   "metadata": {},
   "outputs": [],
   "source": [
    "train_datagen = ImageDataGenerator(\n",
    "    rotation_range=45, \n",
    "    width_shift_range=0.2, \n",
    "    height_shift_range=0.2, \n",
    "    zoom_range=0.3)\n",
    "\n",
    "valid_datagen = ImageDataGenerator()\n",
    "\n",
    "train_generator = train_datagen.flow(train_tensors, train_target, batch_size= 128)\n",
    "valid_generator = valid_datagen.flow(valid_tensors, valid_target, batch_size= 128)"
   ]
  },
  {
   "cell_type": "code",
   "execution_count": null,
   "metadata": {},
   "outputs": [
    {
     "name": "stdout",
     "output_type": "stream",
     "text": [
      "Epoch 1/50\n"
     ]
    }
   ],
   "source": [
    "epochs_aug = 50\n",
    "\n",
    "hist_aug = model.fit_generator(train_generator, steps_per_epoch=6480//128, epochs=epochs_aug,\n",
    "                    validation_data=valid_generator, validation_steps=805//128,\n",
    "                    callbacks=[checkpointer], verbose=1)"
   ]
  },
  {
   "cell_type": "markdown",
   "metadata": {},
   "source": [
    "### Test Accuracy"
   ]
  },
  {
   "cell_type": "code",
   "execution_count": null,
   "metadata": {
    "scrolled": true
   },
   "outputs": [],
   "source": [
    "model.load_weights('saved_models/weights.best.from_baseCNN.hdf5')\n",
    "\n",
    "landmark_pred = [np.argmax(model.predict(np.expand_dims(tensor, axis=0))) for tensor in test_tensors]\n",
    "landmark_prob = [np.amax(model.predict(np.expand_dims(tensor, axis=0))) for tensor in test_tensors]\n",
    "test_accuracy = np.sum(np.array(landmark_pred) == np.argmax(test_target, axis=1)) / len(landmark_pred)\n",
    "print('Test accuracy:', test_accuracy)"
   ]
  },
  {
   "cell_type": "markdown",
   "metadata": {},
   "source": [
    "## Global Average Precision (GAP) Evaluation"
   ]
  },
  {
   "cell_type": "code",
   "execution_count": null,
   "metadata": {},
   "outputs": [],
   "source": [
    "# Sort the predicted landmark lable and test label based on softmax probability\n",
    "\n",
    "sort_id = np.argsort(landmark_prob)[::-1]\n",
    "landmark_pred_sorted = [landmark_pred[sid] for sid in sort_id]\n",
    "test_target_sorted = [test_target[sid] for sid in sort_id]"
   ]
  },
  {
   "cell_type": "code",
   "execution_count": null,
   "metadata": {},
   "outputs": [],
   "source": [
    "# Calculate GAP score\n",
    "\n",
    "prec = []\n",
    "\n",
    "for i in range(len(sort_id)):\n",
    "    prec.append(np.sum(np.array(landmark_pred_sorted[:(i+1)]) == np.argmax(test_target_sorted[:(i+1)], axis=1)) \n",
    "                / len(landmark_pred_sorted[:(i+1)]))\n",
    "\n",
    "GAP_score = np.sum(prec) / len(prec)\n",
    "GAP_score"
   ]
  },
  {
   "cell_type": "markdown",
   "metadata": {},
   "source": [
    "## CNN with Batch Normalization\n",
    "### Model Compile"
   ]
  },
  {
   "cell_type": "code",
   "execution_count": null,
   "metadata": {
    "scrolled": true
   },
   "outputs": [],
   "source": [
    "modelBN = Sequential()\n",
    "\n",
    "modelBN.add(Conv2D(filters=16, kernel_size=4, padding='same', use_bias=False, input_shape=input_shape))\n",
    "modelBN.add(Activation(\"relu\"))\n",
    "modelBN.add(BatchNormalization())\n",
    "modelBN.add(MaxPooling2D(pool_size=2))\n",
    "\n",
    "modelBN.add(Conv2D(filters=32, kernel_size=3, padding='same', use_bias=False))\n",
    "modelBN.add(Activation(\"relu\"))\n",
    "modelBN.add(BatchNormalization())\n",
    "modelBN.add(MaxPooling2D(pool_size=2))\n",
    "\n",
    "modelBN.add(Conv2D(filters=64, kernel_size=3, padding='same', use_bias=False))\n",
    "modelBN.add(Activation(\"relu\"))\n",
    "modelBN.add(BatchNormalization())\n",
    "modelBN.add(MaxPooling2D(pool_size=2))\n",
    "\n",
    "modelBN.add(Conv2D(filters=128, kernel_size=2, padding='same', use_bias=False))\n",
    "modelBN.add(Activation(\"relu\"))\n",
    "modelBN.add(BatchNormalization())\n",
    "modelBN.add(MaxPooling2D(pool_size=2))\n",
    "\n",
    "modelBN.add(Flatten())\n",
    "modelBN.add(Dense(512, activation='relu'))\n",
    "modelBN.add(Dropout(0.3))\n",
    "modelBN.add(Dense(100, activation='softmax'))\n",
    "\n",
    "modelBN.summary()"
   ]
  },
  {
   "cell_type": "code",
   "execution_count": null,
   "metadata": {},
   "outputs": [],
   "source": [
    "adam = optimizers.Adam(lr=0.02)\n",
    "modelBN.compile(optimizer='adamax', loss='categorical_crossentropy', metrics=['accuracy'])"
   ]
  },
  {
   "cell_type": "markdown",
   "metadata": {},
   "source": [
    "### Model Train"
   ]
  },
  {
   "cell_type": "code",
   "execution_count": null,
   "metadata": {
    "scrolled": true
   },
   "outputs": [],
   "source": [
    "checkpointer = ModelCheckpoint(filepath='saved_models/weights.best.from_BatchNorm.hdf5', \n",
    "                               verbose=1, save_best_only=True)\n",
    "\n",
    "epochs_batch = 15\n",
    "\n",
    "hist_BN = modelBN.fit(train_tensors, train_target, \n",
    "          validation_data=(valid_tensors, valid_target),\n",
    "          epochs=epochs_batch, batch_size=64, callbacks=[checkpointer], verbose=1)"
   ]
  },
  {
   "cell_type": "markdown",
   "metadata": {},
   "source": [
    "### Test Acccuracy"
   ]
  },
  {
   "cell_type": "code",
   "execution_count": null,
   "metadata": {
    "scrolled": true
   },
   "outputs": [],
   "source": [
    "modelBN.load_weights('saved_models/weights.best.from_BatchNorm.hdf5')\n",
    "\n",
    "landmark_pred = [np.argmax(modelBN.predict(np.expand_dims(tensor, axis=0))) for tensor in test_tensors]\n",
    "test_accuracy = np.sum(np.array(landmark_pred) == np.argmax(test_target, axis=1)) / len(landmark_pred)\n",
    "print('Test accuracy:', test_accuracy)"
   ]
  },
  {
   "cell_type": "markdown",
   "metadata": {},
   "source": [
    "## Model Evaluation"
   ]
  },
  {
   "cell_type": "code",
   "execution_count": null,
   "metadata": {},
   "outputs": [],
   "source": [
    "hist_BaseCNN = {'acc': [0.13132716049382717, 0.17654320987654321, 0.22330246913580246, 0.28456790123456788, 0.36003086419753089,\n",
    "                        0.44645061728395063, 0.54243827160493829, 0.65416666666666667, 0.75169753086419755, 0.8246913580246914],\n",
    "                'loss': [3.9298892386165667, 3.680104664814325, 3.3804817258575817, 3.066348374920127, 2.6730856707066666,\n",
    "                         2.2241253917599901, 1.7646778118463211, 1.286705630502583, 0.87414459122551813, 0.60244603024588694],\n",
    "                'val_acc': [0.17142857183580812, 0.19751552835754727, 0.24472049730164663, 0.29565217420921563,\n",
    "                            0.37391304407060516, 0.3913043485294958, 0.43229813649787668, 0.4211180122742742,\n",
    "                            0.42484472160753994, 0.41987577687879529],\n",
    "                'val_loss': [3.7763777463332469, 3.5307922268506164, 3.2851792984127259, 2.9763647654041741, 2.737886569514778,\n",
    "                             2.6325608985024211, 2.5756296847918021, 2.7493783006016512, 2.8917108950407608,3.2256962965734255]}"
   ]
  },
  {
   "cell_type": "code",
   "execution_count": null,
   "metadata": {},
   "outputs": [],
   "source": [
    "hist_BaseCNN_df = pd.DataFrame(hist_BaseCNN)\n",
    "hist_BaseCNN_df.columns = ['Train_acc', 'Train_loss', 'Val_acc','Val_loss']\n",
    "hist_BaseCNN_df"
   ]
  },
  {
   "cell_type": "code",
   "execution_count": null,
   "metadata": {
    "scrolled": true
   },
   "outputs": [],
   "source": [
    "ax1 = hist_BaseCNN_df.plot(marker='.')\n",
    "ax1.set_xlabel(\"Epoch\")\n",
    "ax1.set_ylabel(\"Value\")\n",
    "plt.savefig('./Report/base.png')"
   ]
  },
  {
   "cell_type": "code",
   "execution_count": null,
   "metadata": {},
   "outputs": [],
   "source": [
    "hist_Aug1 = {'acc': [0.25546875000000002, 0.29408060445893619, 0.30462846340100169, 0.33674433294411571, 0.34146725470833572,\n",
    "                     0.35941435768261965, 0.35925692687707222, 0.38365868995111596, 0.38727959705239878, 0.40192065483676997,\n",
    "                     0.4208123424191319, 0.42191435753248202, 0.43938916906601838, 0.45560453385490013, 0.46221662491034499,\n",
    "                     0.46300377878794441, 0.49071158705190088, 0.48598866498740556, 0.50519521410579349, 0.51243702770780852,\n",
    "                     0.51338161254109305, 0.53494962246652211, 0.5469143573823444, 0.54738665017433075, 0.54707178841309823,\n",
    "                     0.55919395450981202, 0.57761335027608218, 0.58705919470534818, 0.58658690161308658, 0.59382871551537697,\n",
    "                     0.60862720418036431, 0.61319269506396812, 0.60799748125844999, 0.62043450881612094, 0.61791561727860111,\n",
    "                     0.62641687627403198, 0.63082493747812074, 0.6460957172835804, 0.650818640098764, 0.64798488710028701,\n",
    "                     0.6527078087143694, 0.66593198977429557, 0.67726700341971757, 0.67742443324937029, 0.67333123395665162,\n",
    "                     0.67553526448362722, 0.68246221707509802, 0.69285264483627207, 0.7029282120373147, 0.69899244302466179,\n",
    "                     0.71630982307703128, 0.6985201511335013, 0.71048488634959872, 0.71656249999999999, 0.71505037813402839,\n",
    "                     0.71977329974811088, 0.7282745596443676, 0.73646095747911655, 0.73803526478390247, 0.75409319944285624],\n",
    "             'loss': [3.2232321786880491, 2.9990468968071924, 2.9238310268603884, 2.7992355565280098, 2.737023192028555,\n",
    "                      2.6451771565588658, 2.6298042989197548, 2.5292290740409484, 2.4872682490937357, 2.4218320276034571,\n",
    "                      2.3226811627596993, 2.299093459655416, 2.2177092599628554, 2.2043386424518654, 2.1157339285843317,\n",
    "                      2.0904880164552395, 2.0064047355795989, 1.9939596881193837, 1.9514757896250381, 1.9008020567954036,\n",
    "                      1.876178127392113, 1.782965435489299, 1.7345330483967472, 1.7294392582751641, 1.7163397094764998,\n",
    "                      1.6662033177743329, 1.6024818057077057, 1.5661355632378413, 1.5691469054978802, 1.5227450225455335,\n",
    "                      1.469195683597017, 1.4539444128271914, 1.4576934302784033, 1.4022760595422548, 1.3867993583006581,\n",
    "                      1.3635792876370909, 1.3296321273150311, 1.2845476106071954, 1.265174487676068, 1.2719144436814622,\n",
    "                      1.2758843298222615, 1.2146366297147737, 1.1755962930338208, 1.163139341460067, 1.1503687775705562,\n",
    "                      1.1531679134825314, 1.1188850982363339, 1.0898135984574517, 1.0535212247738008, 1.0678208411790862,\n",
    "                      1.0192861403866438, 1.0809404141356422, 1.0331504585160416, 0.98859515905380246, 1.00419298527523,\n",
    "                      0.99700506358062591, 0.96955797684282741, 0.93192633513539502, 0.91039594775183075, 0.87640107939165246],\n",
    "             'val_acc': [0.3828125, 0.39438700367816265, 0.39881831830150094, 0.41802068092094036, 0.44313146339033344,\n",
    "                         0.46233382715432297, 0.4357459379175741, 0.45963541666666669, 0.49778434414102901, 0.46971935113036301,\n",
    "                         0.48596750562969304, 0.50516986899749217, 0.50516986987791523, 0.56129985396231652,0.54036458333333337,\n",
    "                         0.52437223298158742, 0.52732644299460651, 0.55096012248246318, 0.5509601204574901, 0.57607090182635423,\n",
    "                         0.56129985721988196, 0.5703125, 0.58345642646271156, 0.60265879071093376, 0.58345642646271156,\n",
    "                         0.59084195171536513, 0.60856720959242194, 0.59379616120013035, 0.62239583333333337,0.64106351806282824,\n",
    "                         0.61595273519724481, 0.64254062117642807, 0.61742983654999839, 0.66469719640613478,\n",
    "                         0.62629246579667486, 0.62630208333333337, 0.64844904129050862, 0.63810930505637053,\n",
    "                         0.62924667906725951, 0.673559824420219, 0.6528803561779738, 0.64401772605087415, 0.65625,\n",
    "                         0.64254062267314738, 0.63515509856504382, 0.64844904155463556, 0.66322008880237704, 0.6661743015447078,\n",
    "                         0.68537666227123761, 0.65625, 0.66322008941867328, 0.68094534703160314, 0.67355982265937275,\n",
    "                         0.70162481439342528, 0.68833087492552603, 0.68389955678049541, 0.68489583333333337, 0.692762186643468,\n",
    "                         0.68537666517663387, 0.67651403478540728],\n",
    "             'val_loss': [2.6452309290568032, 2.5847700216217264, 2.4060148689208036, 2.3356332831756053, 2.3420486395609079,\n",
    "                          2.3017310786282472, 2.3716619233084923, 2.2140320539474487, 2.0899026453759153, 2.1580345694036218,\n",
    "                          2.0487872564634158, 2.0332463872309448, 2.0096049868725956, 1.9020438509466377, 1.9020523428916931,\n",
    "                          1.8518806903717966, 1.7829044162786869, 1.8370949434917117, 1.845528794180167, 1.7594302035152825,\n",
    "                          1.8055269017353368, 1.6822096308072407, 1.7357862992335986, 1.6300792472225172, 1.7285163599772151,\n",
    "                          1.6977536676553362, 1.6085897534425362, 1.6361149172663161, 1.5901709794998169, 1.484190075929267,\n",
    "                          1.5790710727432453, 1.5120298226791788, 1.4797959715964346, 1.4832501860453775, 1.5785681849216253,\n",
    "                          1.554775059223175, 1.4138278459340465, 1.3956891520160692, 1.5429726955281402, 1.3938687219225321,\n",
    "                          1.4762555027994131, 1.4691717006607281, 1.4483438928922017, 1.4830871012221412, 1.4592810141987427,\n",
    "                          1.4282475282029528, 1.425352577796891, 1.337258996780373, 1.3461823303202936, 1.4805522759755452,\n",
    "                          1.3543041685659389, 1.2878402416075703, 1.391042958510327, 1.3276069699573376, 1.279264172035623,\n",
    "                          1.3356382948961356, 1.367376983165741, 1.3885350897357946, 1.4288017251466896, 1.3429765403710934]}"
   ]
  },
  {
   "cell_type": "code",
   "execution_count": null,
   "metadata": {},
   "outputs": [],
   "source": [
    "hist_Aug1_df = pd.DataFrame(hist_Aug1)\n",
    "hist_Aug1_df.columns = ['Train_acc', 'Train_loss', 'Val_acc','Val_loss']\n",
    "hist_Aug1_df.head()"
   ]
  },
  {
   "cell_type": "code",
   "execution_count": null,
   "metadata": {
    "scrolled": true
   },
   "outputs": [],
   "source": [
    "ax2 = hist_Aug1_df.plot(marker='.')\n",
    "ax2.set_xlabel(\"Epoch\")\n",
    "ax2.set_ylabel(\"Value\")\n",
    "plt.savefig('./Report/aug.png')"
   ]
  },
  {
   "cell_type": "code",
   "execution_count": null,
   "metadata": {},
   "outputs": [],
   "source": []
  }
 ],
 "metadata": {
  "anaconda-cloud": {},
  "kernelspec": {
   "display_name": "Python 3",
   "language": "python",
   "name": "python3"
  },
  "language_info": {
   "codemirror_mode": {
    "name": "ipython",
    "version": 3
   },
   "file_extension": ".py",
   "mimetype": "text/x-python",
   "name": "python",
   "nbconvert_exporter": "python",
   "pygments_lexer": "ipython3",
   "version": "3.7.3"
  }
 },
 "nbformat": 4,
 "nbformat_minor": 1
}
