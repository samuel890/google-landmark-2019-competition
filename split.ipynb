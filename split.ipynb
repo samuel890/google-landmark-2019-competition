{
 "cells": [
  {
   "cell_type": "code",
   "execution_count": 1,
   "metadata": {},
   "outputs": [],
   "source": [
    "import pandas as pd\n",
    "import numpy as np\n",
    "\n",
    "train_sample = pd.read_csv('train_sample.csv')\n",
    "X = train_sample['id']\n",
    "y = train_sample['landmark_id']"
   ]
  },
  {
   "cell_type": "code",
   "execution_count": 2,
   "metadata": {},
   "outputs": [
    {
     "data": {
      "text/html": [
       "<div>\n",
       "<style scoped>\n",
       "    .dataframe tbody tr th:only-of-type {\n",
       "        vertical-align: middle;\n",
       "    }\n",
       "\n",
       "    .dataframe tbody tr th {\n",
       "        vertical-align: top;\n",
       "    }\n",
       "\n",
       "    .dataframe thead th {\n",
       "        text-align: right;\n",
       "    }\n",
       "</style>\n",
       "<table border=\"1\" class=\"dataframe\">\n",
       "  <thead>\n",
       "    <tr style=\"text-align: right;\">\n",
       "      <th></th>\n",
       "      <th>id</th>\n",
       "      <th>url</th>\n",
       "      <th>landmark_id</th>\n",
       "    </tr>\n",
       "  </thead>\n",
       "  <tbody>\n",
       "    <tr>\n",
       "      <th>0</th>\n",
       "      <td>0b7ca98b7ff8c0cd</td>\n",
       "      <td>https://lh6.googleusercontent.com/-jCiqpASe2Sk...</td>\n",
       "      <td>6696</td>\n",
       "    </tr>\n",
       "    <tr>\n",
       "      <th>1</th>\n",
       "      <td>9c2855ff7840a378</td>\n",
       "      <td>https://lh4.googleusercontent.com/-AVEfPLKUjwQ...</td>\n",
       "      <td>2743</td>\n",
       "    </tr>\n",
       "    <tr>\n",
       "      <th>2</th>\n",
       "      <td>0e93f2388ca6fe45</td>\n",
       "      <td>http://lh4.ggpht.com/-vyK23KRCis4/T7T_YFZ3rQI/...</td>\n",
       "      <td>5376</td>\n",
       "    </tr>\n",
       "    <tr>\n",
       "      <th>3</th>\n",
       "      <td>0f2ce5981fb1d432</td>\n",
       "      <td>https://lh5.googleusercontent.com/-NUKyaAOAgas...</td>\n",
       "      <td>13332</td>\n",
       "    </tr>\n",
       "    <tr>\n",
       "      <th>4</th>\n",
       "      <td>3a6fb5a3c1986e54</td>\n",
       "      <td>http://lh3.ggpht.com/-DsAMtI4g2fY/Shy3HGvuHiI/...</td>\n",
       "      <td>4352</td>\n",
       "    </tr>\n",
       "  </tbody>\n",
       "</table>\n",
       "</div>"
      ],
      "text/plain": [
       "                 id                                                url  \\\n",
       "0  0b7ca98b7ff8c0cd  https://lh6.googleusercontent.com/-jCiqpASe2Sk...   \n",
       "1  9c2855ff7840a378  https://lh4.googleusercontent.com/-AVEfPLKUjwQ...   \n",
       "2  0e93f2388ca6fe45  http://lh4.ggpht.com/-vyK23KRCis4/T7T_YFZ3rQI/...   \n",
       "3  0f2ce5981fb1d432  https://lh5.googleusercontent.com/-NUKyaAOAgas...   \n",
       "4  3a6fb5a3c1986e54  http://lh3.ggpht.com/-DsAMtI4g2fY/Shy3HGvuHiI/...   \n",
       "\n",
       "  landmark_id  \n",
       "0        6696  \n",
       "1        2743  \n",
       "2        5376  \n",
       "3       13332  \n",
       "4        4352  "
      ]
     },
     "execution_count": 2,
     "metadata": {},
     "output_type": "execute_result"
    }
   ],
   "source": [
    "train_sample.head()"
   ]
  },
  {
   "cell_type": "code",
   "execution_count": 3,
   "metadata": {},
   "outputs": [
    {
     "data": {
      "text/plain": [
       "8586"
      ]
     },
     "execution_count": 3,
     "metadata": {},
     "output_type": "execute_result"
    }
   ],
   "source": [
    "len(train_sample)"
   ]
  },
  {
   "cell_type": "code",
   "execution_count": 4,
   "metadata": {},
   "outputs": [],
   "source": [
    "from sklearn.model_selection import StratifiedShuffleSplit\n",
    "\n",
    "sss = StratifiedShuffleSplit(n_splits=1, test_size=0.2, random_state=10)\n",
    "\n",
    "for train_id, test_id in sss.split(X, y):\n",
    "    X_train, X_tmp = X.iloc[train_id], X.iloc[test_id]\n",
    "    y_train, y_tmp = y.iloc[train_id], y.iloc[test_id]\n",
    "\n",
    "sss1 = StratifiedShuffleSplit(n_splits=1, test_size=0.5, random_state=10)\n",
    "\n",
    "for train_id, test_id in sss1.split(X_tmp, y_tmp):\n",
    "    X_valid, X_test = X_tmp.iloc[train_id], X_tmp.iloc[test_id]\n",
    "    y_valid, y_test = y_tmp.iloc[train_id], y_tmp.iloc[test_id]"
   ]
  },
  {
   "cell_type": "code",
   "execution_count": 5,
   "metadata": {},
   "outputs": [
    {
     "name": "stdout",
     "output_type": "stream",
     "text": [
      "7492    af2ab3bcc420c102\n",
      "6926    f2bc1e40df600b34\n",
      "7348    09179f4332456c95\n",
      "30      722aa21fb0aebd4b\n",
      "7295    9eef8d5175fc6b06\n",
      "Name: id, dtype: object\n",
      "7492    3804\n",
      "6926    4352\n",
      "7348    6599\n",
      "30      2949\n",
      "7295    6051\n",
      "Name: landmark_id, dtype: object\n"
     ]
    }
   ],
   "source": [
    "print(X_train[:5])\n",
    "print(y_train[:5])"
   ]
  },
  {
   "cell_type": "code",
   "execution_count": 6,
   "metadata": {},
   "outputs": [
    {
     "name": "stdout",
     "output_type": "stream",
     "text": [
      "402     cca276b273062bde\n",
      "1957    eaa82231250d1fec\n",
      "2576    fb839d9804a4be61\n",
      "5819    e0ab7fb24d3b1df1\n",
      "691     65769236d0277f60\n",
      "Name: id, dtype: object\n",
      "402      6651\n",
      "1957    10900\n",
      "2576     6696\n",
      "5819     9779\n",
      "691     10184\n",
      "Name: landmark_id, dtype: object\n"
     ]
    }
   ],
   "source": [
    "print(X_tmp[:5])\n",
    "print(y_tmp[:5])"
   ]
  },
  {
   "cell_type": "code",
   "execution_count": 7,
   "metadata": {},
   "outputs": [
    {
     "name": "stdout",
     "output_type": "stream",
     "text": [
      "3614    4b6083b2306dba7f\n",
      "7079    1c2cf8d553ba3bea\n",
      "7003    a67d326e3d3a2132\n",
      "8057    b564763955241c1b\n",
      "3768    b66c9d1da856f31c\n",
      "Name: id, dtype: object\n",
      "3614     6599\n",
      "7079     6051\n",
      "7003     4352\n",
      "8057     6051\n",
      "3768    12220\n",
      "Name: landmark_id, dtype: object\n"
     ]
    }
   ],
   "source": [
    "print(X_test[:5])\n",
    "print(y_test[:5])"
   ]
  },
  {
   "cell_type": "code",
   "execution_count": 8,
   "metadata": {},
   "outputs": [
    {
     "name": "stdout",
     "output_type": "stream",
     "text": [
      "777     9f5dea8073cda22f\n",
      "1544    1833a05cb6be7a32\n",
      "1454    2e40e5c3c5da732b\n",
      "519     646dac4ad07b7756\n",
      "3176    c70fe509f46f17b3\n",
      "Name: id, dtype: object\n",
      "777      None\n",
      "1544    13444\n",
      "1454     5554\n",
      "519      6651\n",
      "3176     4981\n",
      "Name: landmark_id, dtype: object\n"
     ]
    }
   ],
   "source": [
    "print(X_valid[:5])\n",
    "print(y_valid[:5])"
   ]
  },
  {
   "cell_type": "code",
   "execution_count": 9,
   "metadata": {},
   "outputs": [
    {
     "name": "stdout",
     "output_type": "stream",
     "text": [
      "Train set size: 6868\n",
      "Validation set size: 859\n",
      "Test set size: 859\n"
     ]
    }
   ],
   "source": [
    "print(\"Train set size:\", len(X_train))\n",
    "print(\"Validation set size:\", len(X_valid))\n",
    "print(\"Test set size:\", len(X_test))"
   ]
  },
  {
   "cell_type": "code",
   "execution_count": 10,
   "metadata": {},
   "outputs": [
    {
     "data": {
      "image/png": "[encoded data removed]",
      "text/plain": [
       "<Figure size 1008x432 with 1 Axes>"
      ]
     },
     "metadata": {
      "needs_background": "light"
     },
     "output_type": "display_data"
    }
   ],
   "source": [
    "import matplotlib.pyplot as plt\n",
    "import seaborn as sns\n",
    "%matplotlib inline \n",
    "\n",
    "plt.figure(figsize = (14, 6))\n",
    "g = sns.countplot(x=y_test)\n",
    "g.set_title(\"Frequency of landmark_id\", fontweight=\"bold\", fontsize=12)\n",
    "plt.xticks(rotation=90)\n",
    "plt.show()"
   ]
  },
  {
   "cell_type": "code",
   "execution_count": 11,
   "metadata": {},
   "outputs": [],
   "source": [
    "import os, shutil\n",
    "\n",
    "from_path = \"./train_images/\"\n",
    "moveto_path = \"./valid_images/\"\n",
    "\n",
    "for f in X_valid.iloc[:] :\n",
    "    src = from_path+f+'.jpg'\n",
    "    dst = moveto_path+f+'.jpg'\n",
    "    if os.path.exists(src):\n",
    "        shutil.move(src, dst)"
   ]
  },
  {
   "cell_type": "code",
   "execution_count": 12,
   "metadata": {},
   "outputs": [],
   "source": [
    "moveto_path = \"./test_images/\"\n",
    "\n",
    "for f in X_test.iloc[:]:\n",
    "    src = from_path+f+'.jpg'\n",
    "    dst = moveto_path+f+'.jpg'\n",
    "    if os.path.exists(src):\n",
    "        shutil.move(src, dst)"
   ]
  },
  {
   "cell_type": "code",
   "execution_count": null,
   "metadata": {},
   "outputs": [],
   "source": []
  }
 ],
 "metadata": {
  "kernelspec": {
   "display_name": "Python 3",
   "language": "python",
   "name": "python3"
  },
  "language_info": {
   "codemirror_mode": {
    "name": "ipython",
    "version": 3
   },
   "file_extension": ".py",
   "mimetype": "text/x-python",
   "name": "python",
   "nbconvert_exporter": "python",
   "pygments_lexer": "ipython3",
   "version": "3.7.3"
  }
 },
 "nbformat": 4,
 "nbformat_minor": 2
}
