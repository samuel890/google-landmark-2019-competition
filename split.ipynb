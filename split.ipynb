{
 "cells": [
  {
   "cell_type": "code",
   "execution_count": 29,
   "metadata": {},
   "outputs": [],
   "source": [
    "import pandas as pd\n",
    "import numpy as np\n",
    "\n",
    "train_sample = pd.read_csv('train_sample.csv')\n",
    "X = train_sample['id']\n",
    "y = train_sample['landmark_id']"
   ]
  },
  {
   "cell_type": "code",
   "execution_count": 30,
   "metadata": {},
   "outputs": [
    {
     "data": {
      "text/html": [
       "<div>\n",
       "<style scoped>\n",
       "    .dataframe tbody tr th:only-of-type {\n",
       "        vertical-align: middle;\n",
       "    }\n",
       "\n",
       "    .dataframe tbody tr th {\n",
       "        vertical-align: top;\n",
       "    }\n",
       "\n",
       "    .dataframe thead th {\n",
       "        text-align: right;\n",
       "    }\n",
       "</style>\n",
       "<table border=\"1\" class=\"dataframe\">\n",
       "  <thead>\n",
       "    <tr style=\"text-align: right;\">\n",
       "      <th></th>\n",
       "      <th>id</th>\n",
       "      <th>url</th>\n",
       "      <th>landmark_id</th>\n",
       "    </tr>\n",
       "  </thead>\n",
       "  <tbody>\n",
       "    <tr>\n",
       "      <td>0</td>\n",
       "      <td>b19a8e2a9f0459f9</td>\n",
       "      <td>https://upload.wikimedia.org/wikipedia/commons...</td>\n",
       "      <td>15427</td>\n",
       "    </tr>\n",
       "    <tr>\n",
       "      <td>1</td>\n",
       "      <td>8f874e2cb73af059</td>\n",
       "      <td>https://upload.wikimedia.org/wikipedia/commons...</td>\n",
       "      <td>47133</td>\n",
       "    </tr>\n",
       "    <tr>\n",
       "      <td>2</td>\n",
       "      <td>db0a6d8260b5ffaf</td>\n",
       "      <td>https://upload.wikimedia.org/wikipedia/commons...</td>\n",
       "      <td>1924</td>\n",
       "    </tr>\n",
       "    <tr>\n",
       "      <td>3</td>\n",
       "      <td>ce777bb778304709</td>\n",
       "      <td>http://upload.wikimedia.org/wikipedia/commons/...</td>\n",
       "      <td>46705</td>\n",
       "    </tr>\n",
       "    <tr>\n",
       "      <td>4</td>\n",
       "      <td>e6bc5d0d33e8cdef</td>\n",
       "      <td>https://upload.wikimedia.org/wikipedia/commons...</td>\n",
       "      <td>121873</td>\n",
       "    </tr>\n",
       "  </tbody>\n",
       "</table>\n",
       "</div>"
      ],
      "text/plain": [
       "                 id                                                url  \\\n",
       "0  b19a8e2a9f0459f9  https://upload.wikimedia.org/wikipedia/commons...   \n",
       "1  8f874e2cb73af059  https://upload.wikimedia.org/wikipedia/commons...   \n",
       "2  db0a6d8260b5ffaf  https://upload.wikimedia.org/wikipedia/commons...   \n",
       "3  ce777bb778304709  http://upload.wikimedia.org/wikipedia/commons/...   \n",
       "4  e6bc5d0d33e8cdef  https://upload.wikimedia.org/wikipedia/commons...   \n",
       "\n",
       "   landmark_id  \n",
       "0        15427  \n",
       "1        47133  \n",
       "2         1924  \n",
       "3        46705  \n",
       "4       121873  "
      ]
     },
     "execution_count": 30,
     "metadata": {},
     "output_type": "execute_result"
    }
   ],
   "source": [
    "train_sample.head()\n"
   ]
  },
  {
   "cell_type": "code",
   "execution_count": 31,
   "metadata": {},
   "outputs": [
    {
     "data": {
      "text/plain": [
       "2557"
      ]
     },
     "execution_count": 31,
     "metadata": {},
     "output_type": "execute_result"
    }
   ],
   "source": [
    "len(train_sample)"
   ]
  },
  {
   "cell_type": "code",
   "execution_count": 32,
   "metadata": {},
   "outputs": [],
   "source": [
    "from sklearn.model_selection import StratifiedShuffleSplit\n",
    "\n",
    "sss = StratifiedShuffleSplit(n_splits=1, test_size=0.2, random_state=10)\n",
    "\n",
    "for train_id, test_id in sss.split(X, y):\n",
    "    X_train, X_tmp = X.iloc[train_id], X.iloc[test_id]\n",
    "    y_train, y_tmp = y.iloc[train_id], y.iloc[test_id]\n",
    "\n",
    "sss1 = StratifiedShuffleSplit(n_splits=1, test_size=0.5, random_state=10)\n",
    "\n",
    "for train_id, test_id in sss1.split(X_tmp, y_tmp):\n",
    "    X_valid, X_test = X_tmp.iloc[train_id], X_tmp.iloc[test_id]\n",
    "    y_valid, y_test = y_tmp.iloc[train_id], y_tmp.iloc[test_id]"
   ]
  },
  {
   "cell_type": "code",
   "execution_count": 33,
   "metadata": {},
   "outputs": [
    {
     "name": "stdout",
     "output_type": "stream",
     "text": [
      "494     837bf55999a381ed\n",
      "1525    f61fc2f7c18ff96c\n",
      "192     5eb98887004e564b\n",
      "655     4ec916eb92a77db8\n",
      "1636    42ab9bcc73f8a9de\n",
      "Name: id, dtype: object\n",
      "494     139894\n",
      "1525    190931\n",
      "192     177870\n",
      "655     165596\n",
      "1636    138982\n",
      "Name: landmark_id, dtype: int64\n"
     ]
    }
   ],
   "source": [
    "print(X_train[:5])\n",
    "print(y_train[:5])"
   ]
  },
  {
   "cell_type": "code",
   "execution_count": 34,
   "metadata": {},
   "outputs": [
    {
     "name": "stdout",
     "output_type": "stream",
     "text": [
      "1006    b9828ebe319013de\n",
      "344     7cfc8a3c937472c9\n",
      "2291    3a1d7db1cbcaba0d\n",
      "1360    542f50aae805a80d\n",
      "1731    608d817eacf1190b\n",
      "Name: id, dtype: object\n",
      "1006     40088\n",
      "344     180759\n",
      "2291     62798\n",
      "1360     41808\n",
      "1731     51856\n",
      "Name: landmark_id, dtype: int64\n"
     ]
    }
   ],
   "source": [
    "print(X_tmp[:5])\n",
    "print(y_tmp[:5])"
   ]
  },
  {
   "cell_type": "code",
   "execution_count": 35,
   "metadata": {},
   "outputs": [
    {
     "name": "stdout",
     "output_type": "stream",
     "text": [
      "1856    687dec3ecb6fc0b0\n",
      "42      4bf42551fbe28638\n",
      "1224    c8d6b7d333537d37\n",
      "1671    e75ed27ec7f99e4d\n",
      "97      430fde3f6a1f8e63\n",
      "Name: id, dtype: object\n",
      "1856    160944\n",
      "42       62074\n",
      "1224     62798\n",
      "1671    173511\n",
      "97       56827\n",
      "Name: landmark_id, dtype: int64\n"
     ]
    }
   ],
   "source": [
    "print(X_test[:5])\n",
    "print(y_test[:5])"
   ]
  },
  {
   "cell_type": "code",
   "execution_count": 36,
   "metadata": {},
   "outputs": [
    {
     "name": "stdout",
     "output_type": "stream",
     "text": [
      "96      1f2dca0b2c57e69e\n",
      "1545    a13bef4b1e92b5f1\n",
      "1413    6319422d8d627366\n",
      "1158    3e09dc4f1a2d9b2f\n",
      "2498    d996a5e28f48ec5b\n",
      "Name: id, dtype: object\n",
      "96      14915\n",
      "1545    41808\n",
      "1413    51856\n",
      "1158    25847\n",
      "2498    38482\n",
      "Name: landmark_id, dtype: int64\n"
     ]
    }
   ],
   "source": [
    "print(X_valid[:5])\n",
    "print(y_valid[:5])"
   ]
  },
  {
   "cell_type": "code",
   "execution_count": 37,
   "metadata": {},
   "outputs": [
    {
     "name": "stdout",
     "output_type": "stream",
     "text": [
      "Train set size: 2045\n",
      "Validation set size: 256\n",
      "Test set size: 256\n"
     ]
    }
   ],
   "source": [
    "print(\"Train set size:\", len(X_train))\n",
    "print(\"Validation set size:\", len(X_valid))\n",
    "print(\"Test set size:\", len(X_test))"
   ]
  },
  {
   "cell_type": "code",
   "execution_count": 38,
   "metadata": {},
   "outputs": [
    {
     "data": {
      "image/png": "[encoded data removed]",
      "text/plain": [
       "<Figure size 1008x432 with 1 Axes>"
      ]
     },
     "metadata": {
      "needs_background": "light"
     },
     "output_type": "display_data"
    }
   ],
   "source": [
    "import matplotlib.pyplot as plt\n",
    "import seaborn as sns\n",
    "%matplotlib inline \n",
    "\n",
    "plt.figure(figsize = (14, 6))\n",
    "g = sns.countplot(x=y_test)\n",
    "g.set_title(\"Frequency of landmark_id\", fontweight=\"bold\", fontsize=12)\n",
    "plt.xticks(rotation=90)\n",
    "plt.show()"
   ]
  },
  {
   "cell_type": "code",
   "execution_count": 39,
   "metadata": {},
   "outputs": [],
   "source": [
    "import os, shutil\n",
    "\n",
    "from_path = \"./train_images/\"\n",
    "moveto_path = \"./valid_images/\"\n",
    "\n",
    "for f in X_valid.iloc[:] :\n",
    "    src = from_path+f+'.jpg'\n",
    "    dst = moveto_path+f+'.jpg'\n",
    "\n",
    "    if os.path.exists(src):\n",
    "        shutil.move(src, dst)"
   ]
  },
  {
   "cell_type": "code",
   "execution_count": 40,
   "metadata": {},
   "outputs": [],
   "source": [
    "moveto_path = \"./test_images/\"\n",
    "\n",
    "for f in X_test.iloc[:]:\n",
    "    src = from_path+f+'.jpg'\n",
    "    dst = moveto_path+f+'.jpg'\n",
    "    if os.path.exists(src):\n",
    "        shutil.move(src, dst)"
   ]
  },
  {
   "cell_type": "code",
   "execution_count": null,
   "metadata": {},
   "outputs": [],
   "source": []
  },
  {
   "cell_type": "code",
   "execution_count": null,
   "metadata": {},
   "outputs": [],
   "source": []
  },
  {
   "cell_type": "code",
   "execution_count": null,
   "metadata": {},
   "outputs": [],
   "source": []
  }
 ],
 "metadata": {
  "kernelspec": {
   "display_name": "Python 3",
   "language": "python",
   "name": "python3"
  },
  "language_info": {
   "codemirror_mode": {
    "name": "ipython",
    "version": 3
   },
   "file_extension": ".py",
   "mimetype": "text/x-python",
   "name": "python",
   "nbconvert_exporter": "python",
   "pygments_lexer": "ipython3",
   "version": "3.6.9"
  }
 },
 "nbformat": 4,
 "nbformat_minor": 2
}
